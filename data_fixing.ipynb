{
 "cells": [
  {
   "cell_type": "markdown",
   "metadata": {},
   "source": [
    "# Data-Fixing with Zillow Dataset\n",
    "Useful Links:\n",
    "- [Dataframe merging](https://pandas.pydata.org/pandas-docs/stable/merging.html)\n",
    "- [Pipe-separated values to df](https://stackoverflow.com/questions/20949955/changing-pipe-separated-data-to-dataframe-in-python-pandas)\n",
    "- [Storing and reading pickles for storage of \"good\" Dataframes](https://stackoverflow.com/questions/17098654/how-to-store-a-dataframe-using-pandas)"
   ]
  },
  {
   "cell_type": "code",
   "execution_count": 85,
   "metadata": {
    "collapsed": false
   },
   "outputs": [
    {
     "name": "stdout",
     "output_type": "stream",
     "text": [
      "The autoreload extension is already loaded. To reload it, use:\n",
      "  %reload_ext autoreload\n"
     ]
    }
   ],
   "source": [
    "%matplotlib inline\n",
    "import matplotlib.pyplot as plt\n",
    "import pandas as pd\n",
    "import operator\n",
    "import sys\n",
    "import os\n",
    "from utils import zillow_helpers\n",
    "sys.path.insert(0,'../')\n",
    "%load_ext autoreload\n",
    "%autoreload 2"
   ]
  },
  {
   "cell_type": "markdown",
   "metadata": {},
   "source": [
    "Set some data folders here. Be sure to \"ignore\" your actual data folders when pushing to Github."
   ]
  },
  {
   "cell_type": "code",
   "execution_count": 37,
   "metadata": {
    "collapsed": true
   },
   "outputs": [],
   "source": [
    "datadir1 = 'data/46/ZAsmt/'\n",
    "datadir2 = 'data/46/ZTrans/'\n",
    "datadir3 = 'data/50/ZAsmt/'\n",
    "datadir4 = 'data/50/ZTrans/'"
   ]
  },
  {
   "cell_type": "markdown",
   "metadata": {},
   "source": [
    "List the text files in the folder. This could be helpful for making iterables later!"
   ]
  },
  {
   "cell_type": "code",
   "execution_count": 61,
   "metadata": {
    "collapsed": false
   },
   "outputs": [
    {
     "data": {
      "text/plain": [
       "['AdditionalPropertyAddress.txt',\n",
       " 'BKManagedSpecific.txt',\n",
       " 'Building.txt',\n",
       " 'BuildingAreas.txt',\n",
       " 'CareOfName.txt',\n",
       " 'ExteriorWall.txt',\n",
       " 'ExtraFeature.txt',\n",
       " 'Garage.txt',\n",
       " 'InteriorFlooring.txt',\n",
       " 'InteriorWall.txt',\n",
       " 'LotSiteAppeal.txt',\n",
       " 'MailAddress.txt',\n",
       " 'Main.txt',\n",
       " 'Name.txt',\n",
       " 'Oby.txt',\n",
       " 'Pool.txt',\n",
       " 'SaleData.txt',\n",
       " 'TaxDistrict.txt',\n",
       " 'TaxExemption.txt',\n",
       " 'TypeConstruction.txt',\n",
       " 'Value.txt',\n",
       " 'VestingCodes.txt']"
      ]
     },
     "execution_count": 61,
     "metadata": {},
     "output_type": "execute_result"
    }
   ],
   "source": [
    "os.listdir(datadir1)"
   ]
  },
  {
   "cell_type": "markdown",
   "metadata": {},
   "source": [
    "Known syntax for opening and \"reading\" lines from text files contained below"
   ]
  },
  {
   "cell_type": "code",
   "execution_count": 68,
   "metadata": {
    "collapsed": false
   },
   "outputs": [],
   "source": [
    "f = open(datadir1+'SaleData.txt', 'r')"
   ]
  },
  {
   "cell_type": "code",
   "execution_count": 73,
   "metadata": {
    "collapsed": false
   },
   "outputs": [
    {
     "name": "stdout",
     "output_type": "stream",
     "text": [
      "B90D272B-3F28-E611-80C4-3863BB43AC67|1|||2013-04-04|||91|151|CFD||640000.0000|AF|46107|801464\n",
      "\n",
      "BA0D272B-3F28-E611-80C4-3863BB43AC67|1|||2010-05-18|||89|450|WD|WRDE|17500.0000|AF|46107|801464\n",
      "\n",
      "BD0D272B-3F28-E611-80C4-3863BB43AC67|1|||1999-06-11|||||||| |46107|801464\n",
      "\n"
     ]
    }
   ],
   "source": [
    "# Only read a few lines at a time with these files!!!\n",
    "for lines in range(3):\n",
    "    line = f.readline()\n",
    "    print(line)"
   ]
  },
  {
   "cell_type": "markdown",
   "metadata": {},
   "source": [
    "It's good to note that creation of a dataframe from these massive file-sets does not seem to require a lot of processing power. Attempting to read and print the whole dataset probably will crash your kernel! Be sure to read a few lines of the head each time to check!"
   ]
  },
  {
   "cell_type": "code",
   "execution_count": 75,
   "metadata": {
    "collapsed": false
   },
   "outputs": [
    {
     "data": {
      "text/html": [
       "<div>\n",
       "<table border=\"1\" class=\"dataframe\">\n",
       "  <thead>\n",
       "    <tr style=\"text-align: right;\">\n",
       "      <th></th>\n",
       "      <th>0</th>\n",
       "      <th>1</th>\n",
       "      <th>2</th>\n",
       "      <th>3</th>\n",
       "      <th>4</th>\n",
       "      <th>5</th>\n",
       "      <th>6</th>\n",
       "      <th>7</th>\n",
       "      <th>8</th>\n",
       "      <th>9</th>\n",
       "      <th>10</th>\n",
       "      <th>11</th>\n",
       "      <th>12</th>\n",
       "      <th>13</th>\n",
       "      <th>14</th>\n",
       "    </tr>\n",
       "  </thead>\n",
       "  <tbody>\n",
       "    <tr>\n",
       "      <th>0</th>\n",
       "      <td>A30D272B-3F28-E611-80C4-3863BB43AC67</td>\n",
       "      <td>1</td>\n",
       "      <td>NaN</td>\n",
       "      <td>NaN</td>\n",
       "      <td>2011-06-10</td>\n",
       "      <td>NaN</td>\n",
       "      <td>NaN</td>\n",
       "      <td>90</td>\n",
       "      <td>398</td>\n",
       "      <td>WD</td>\n",
       "      <td>WRDE</td>\n",
       "      <td>NaN</td>\n",
       "      <td></td>\n",
       "      <td>46107</td>\n",
       "      <td>801464</td>\n",
       "    </tr>\n",
       "    <tr>\n",
       "      <th>1</th>\n",
       "      <td>A90D272B-3F28-E611-80C4-3863BB43AC67</td>\n",
       "      <td>1</td>\n",
       "      <td>NaN</td>\n",
       "      <td>NaN</td>\n",
       "      <td>1998-08-24</td>\n",
       "      <td>NaN</td>\n",
       "      <td>NaN</td>\n",
       "      <td>NaN</td>\n",
       "      <td>NaN</td>\n",
       "      <td>NaN</td>\n",
       "      <td>NaN</td>\n",
       "      <td>NaN</td>\n",
       "      <td></td>\n",
       "      <td>46107</td>\n",
       "      <td>801464</td>\n",
       "    </tr>\n",
       "    <tr>\n",
       "      <th>2</th>\n",
       "      <td>AD0D272B-3F28-E611-80C4-3863BB43AC67</td>\n",
       "      <td>1</td>\n",
       "      <td>NaN</td>\n",
       "      <td>NaN</td>\n",
       "      <td>2010-07-14</td>\n",
       "      <td>NaN</td>\n",
       "      <td>NaN</td>\n",
       "      <td>90</td>\n",
       "      <td>14</td>\n",
       "      <td>WD</td>\n",
       "      <td>WRDE</td>\n",
       "      <td>58000.0</td>\n",
       "      <td>AF</td>\n",
       "      <td>46107</td>\n",
       "      <td>801464</td>\n",
       "    </tr>\n",
       "  </tbody>\n",
       "</table>\n",
       "</div>"
      ],
      "text/plain": [
       "                                     0   1   2   3           4   5    6    7   \\\n",
       "0  A30D272B-3F28-E611-80C4-3863BB43AC67   1 NaN NaN  2011-06-10 NaN  NaN   90   \n",
       "1  A90D272B-3F28-E611-80C4-3863BB43AC67   1 NaN NaN  1998-08-24 NaN  NaN  NaN   \n",
       "2  AD0D272B-3F28-E611-80C4-3863BB43AC67   1 NaN NaN  2010-07-14 NaN  NaN   90   \n",
       "\n",
       "    8    9     10       11  12     13      14  \n",
       "0  398   WD  WRDE      NaN      46107  801464  \n",
       "1  NaN  NaN   NaN      NaN      46107  801464  \n",
       "2   14   WD  WRDE  58000.0  AF  46107  801464  "
      ]
     },
     "execution_count": 75,
     "metadata": {},
     "output_type": "execute_result"
    }
   ],
   "source": [
    "df = pd.read_csv(datadir1+'SaleData.txt', sep=\"|\", index_col=False, header=None, low_memory=False)\n",
    "df.head(3)"
   ]
  },
  {
   "cell_type": "code",
   "execution_count": 87,
   "metadata": {
    "collapsed": false
   },
   "outputs": [
    {
     "data": {
      "text/html": [
       "<div>\n",
       "<table border=\"1\" class=\"dataframe\">\n",
       "  <thead>\n",
       "    <tr style=\"text-align: right;\">\n",
       "      <th></th>\n",
       "      <th>0</th>\n",
       "      <th>1</th>\n",
       "      <th>2</th>\n",
       "      <th>3</th>\n",
       "      <th>4</th>\n",
       "      <th>5</th>\n",
       "      <th>6</th>\n",
       "      <th>7</th>\n",
       "      <th>8</th>\n",
       "      <th>9</th>\n",
       "      <th>...</th>\n",
       "      <th>85</th>\n",
       "      <th>86</th>\n",
       "      <th>87</th>\n",
       "      <th>88</th>\n",
       "      <th>89</th>\n",
       "      <th>90</th>\n",
       "      <th>91</th>\n",
       "      <th>92</th>\n",
       "      <th>93</th>\n",
       "      <th>94</th>\n",
       "    </tr>\n",
       "  </thead>\n",
       "  <tbody>\n",
       "    <tr>\n",
       "      <th>0</th>\n",
       "      <td>01D1B108-F8A6-E611-80C9-3863BB43AC67</td>\n",
       "      <td>119614254</td>\n",
       "      <td>46137</td>\n",
       "      <td>SD</td>\n",
       "      <td>ZIEBACH</td>\n",
       "      <td>2016-11-01</td>\n",
       "      <td>72016</td>\n",
       "      <td>4</td>\n",
       "      <td>BKF</td>\n",
       "      <td>002643</td>\n",
       "      <td>...</td>\n",
       "      <td>NaN</td>\n",
       "      <td>NaN</td>\n",
       "      <td>NaN</td>\n",
       "      <td>NaN</td>\n",
       "      <td>NaN</td>\n",
       "      <td>NaN</td>\n",
       "      <td>0</td>\n",
       "      <td>1564496</td>\n",
       "      <td>2624</td>\n",
       "      <td>562086187</td>\n",
       "    </tr>\n",
       "    <tr>\n",
       "      <th>1</th>\n",
       "      <td>02D1B108-F8A6-E611-80C9-3863BB43AC67</td>\n",
       "      <td>119613826</td>\n",
       "      <td>46137</td>\n",
       "      <td>SD</td>\n",
       "      <td>ZIEBACH</td>\n",
       "      <td>2016-11-01</td>\n",
       "      <td>72016</td>\n",
       "      <td>4</td>\n",
       "      <td>BKF</td>\n",
       "      <td>002213</td>\n",
       "      <td>...</td>\n",
       "      <td>NaN</td>\n",
       "      <td>NaN</td>\n",
       "      <td>NaN</td>\n",
       "      <td>NaN</td>\n",
       "      <td>NaN</td>\n",
       "      <td>NaN</td>\n",
       "      <td>0</td>\n",
       "      <td>1564496</td>\n",
       "      <td>2196</td>\n",
       "      <td>-1621235809</td>\n",
       "    </tr>\n",
       "    <tr>\n",
       "      <th>2</th>\n",
       "      <td>03D1B108-F8A6-E611-80C9-3863BB43AC67</td>\n",
       "      <td>119615712</td>\n",
       "      <td>46137</td>\n",
       "      <td>SD</td>\n",
       "      <td>ZIEBACH</td>\n",
       "      <td>2016-11-01</td>\n",
       "      <td>72016</td>\n",
       "      <td>4</td>\n",
       "      <td>BKF</td>\n",
       "      <td>004104</td>\n",
       "      <td>...</td>\n",
       "      <td>NaN</td>\n",
       "      <td>NaN</td>\n",
       "      <td>NaN</td>\n",
       "      <td>NaN</td>\n",
       "      <td>NaN</td>\n",
       "      <td>NaN</td>\n",
       "      <td>0</td>\n",
       "      <td>1564496</td>\n",
       "      <td>4081</td>\n",
       "      <td>1892456234</td>\n",
       "    </tr>\n",
       "  </tbody>\n",
       "</table>\n",
       "<p>3 rows × 95 columns</p>\n",
       "</div>"
      ],
      "text/plain": [
       "                                     0          1      2   3        4   \\\n",
       "0  01D1B108-F8A6-E611-80C9-3863BB43AC67  119614254  46137  SD  ZIEBACH   \n",
       "1  02D1B108-F8A6-E611-80C9-3863BB43AC67  119613826  46137  SD  ZIEBACH   \n",
       "2  03D1B108-F8A6-E611-80C9-3863BB43AC67  119615712  46137  SD  ZIEBACH   \n",
       "\n",
       "           5      6   7    8       9      ...      85  86  87  88  89  90  91  \\\n",
       "0  2016-11-01  72016   4  BKF  002643     ...     NaN NaN NaN NaN NaN NaN   0   \n",
       "1  2016-11-01  72016   4  BKF  002213     ...     NaN NaN NaN NaN NaN NaN   0   \n",
       "2  2016-11-01  72016   4  BKF  004104     ...     NaN NaN NaN NaN NaN NaN   0   \n",
       "\n",
       "        92    93          94  \n",
       "0  1564496  2624   562086187  \n",
       "1  1564496  2196 -1621235809  \n",
       "2  1564496  4081  1892456234  \n",
       "\n",
       "[3 rows x 95 columns]"
      ]
     },
     "execution_count": 87,
     "metadata": {},
     "output_type": "execute_result"
    }
   ],
   "source": [
    "df2 = zillow_helpers.txt_to_df(datadir1+'Main.txt')\n",
    "df2.head(3)"
   ]
  },
  {
   "cell_type": "markdown",
   "metadata": {},
   "source": [
    "If your data frame is good, then pickle it! It will save your dataframe and prevent the need to re-create it later.\n",
    "![Pickle Rick](http://pm1.narvii.com/6511/c7ba0df4a630d1c05fad94fec2cac061bc28d69a_128.jpg)"
   ]
  },
  {
   "cell_type": "code",
   "execution_count": 81,
   "metadata": {
    "collapsed": false
   },
   "outputs": [],
   "source": [
    "df.to_pickle(\"df.pickle\")"
   ]
  },
  {
   "cell_type": "code",
   "execution_count": 82,
   "metadata": {
    "collapsed": true
   },
   "outputs": [],
   "source": [
    "df3 = pd.read_pickle(\"df.pickle\")"
   ]
  },
  {
   "cell_type": "code",
   "execution_count": 83,
   "metadata": {
    "collapsed": false
   },
   "outputs": [
    {
     "data": {
      "text/html": [
       "<div>\n",
       "<table border=\"1\" class=\"dataframe\">\n",
       "  <thead>\n",
       "    <tr style=\"text-align: right;\">\n",
       "      <th></th>\n",
       "      <th>0</th>\n",
       "      <th>1</th>\n",
       "      <th>2</th>\n",
       "      <th>3</th>\n",
       "      <th>4</th>\n",
       "      <th>5</th>\n",
       "      <th>6</th>\n",
       "      <th>7</th>\n",
       "      <th>8</th>\n",
       "      <th>9</th>\n",
       "      <th>10</th>\n",
       "      <th>11</th>\n",
       "      <th>12</th>\n",
       "      <th>13</th>\n",
       "      <th>14</th>\n",
       "    </tr>\n",
       "  </thead>\n",
       "  <tbody>\n",
       "    <tr>\n",
       "      <th>0</th>\n",
       "      <td>A30D272B-3F28-E611-80C4-3863BB43AC67</td>\n",
       "      <td>1</td>\n",
       "      <td>NaN</td>\n",
       "      <td>NaN</td>\n",
       "      <td>2011-06-10</td>\n",
       "      <td>NaN</td>\n",
       "      <td>NaN</td>\n",
       "      <td>90</td>\n",
       "      <td>398</td>\n",
       "      <td>WD</td>\n",
       "      <td>WRDE</td>\n",
       "      <td>NaN</td>\n",
       "      <td></td>\n",
       "      <td>46107</td>\n",
       "      <td>801464</td>\n",
       "    </tr>\n",
       "    <tr>\n",
       "      <th>1</th>\n",
       "      <td>A90D272B-3F28-E611-80C4-3863BB43AC67</td>\n",
       "      <td>1</td>\n",
       "      <td>NaN</td>\n",
       "      <td>NaN</td>\n",
       "      <td>1998-08-24</td>\n",
       "      <td>NaN</td>\n",
       "      <td>NaN</td>\n",
       "      <td>NaN</td>\n",
       "      <td>NaN</td>\n",
       "      <td>NaN</td>\n",
       "      <td>NaN</td>\n",
       "      <td>NaN</td>\n",
       "      <td></td>\n",
       "      <td>46107</td>\n",
       "      <td>801464</td>\n",
       "    </tr>\n",
       "    <tr>\n",
       "      <th>2</th>\n",
       "      <td>AD0D272B-3F28-E611-80C4-3863BB43AC67</td>\n",
       "      <td>1</td>\n",
       "      <td>NaN</td>\n",
       "      <td>NaN</td>\n",
       "      <td>2010-07-14</td>\n",
       "      <td>NaN</td>\n",
       "      <td>NaN</td>\n",
       "      <td>90</td>\n",
       "      <td>14</td>\n",
       "      <td>WD</td>\n",
       "      <td>WRDE</td>\n",
       "      <td>58000.0</td>\n",
       "      <td>AF</td>\n",
       "      <td>46107</td>\n",
       "      <td>801464</td>\n",
       "    </tr>\n",
       "  </tbody>\n",
       "</table>\n",
       "</div>"
      ],
      "text/plain": [
       "                                     0   1   2   3           4   5    6    7   \\\n",
       "0  A30D272B-3F28-E611-80C4-3863BB43AC67   1 NaN NaN  2011-06-10 NaN  NaN   90   \n",
       "1  A90D272B-3F28-E611-80C4-3863BB43AC67   1 NaN NaN  1998-08-24 NaN  NaN  NaN   \n",
       "2  AD0D272B-3F28-E611-80C4-3863BB43AC67   1 NaN NaN  2010-07-14 NaN  NaN   90   \n",
       "\n",
       "    8    9     10       11  12     13      14  \n",
       "0  398   WD  WRDE      NaN      46107  801464  \n",
       "1  NaN  NaN   NaN      NaN      46107  801464  \n",
       "2   14   WD  WRDE  58000.0  AF  46107  801464  "
      ]
     },
     "execution_count": 83,
     "metadata": {},
     "output_type": "execute_result"
    }
   ],
   "source": [
    "df3.head(3)"
   ]
  },
  {
   "cell_type": "markdown",
   "metadata": {},
   "source": [
    "# Organizing via Syntax\n",
    "Time to start looking at organizing/merging files! It seems that the best way to organize is by separating dataframes into ZAsmt and ZTrans first."
   ]
  },
  {
   "cell_type": "code",
   "execution_count": null,
   "metadata": {
    "collapsed": true
   },
   "outputs": [],
   "source": []
  }
 ],
 "metadata": {
  "anaconda-cloud": {},
  "kernelspec": {
   "display_name": "Python [default]",
   "language": "python",
   "name": "python3"
  },
  "language_info": {
   "codemirror_mode": {
    "name": "ipython",
    "version": 3
   },
   "file_extension": ".py",
   "mimetype": "text/x-python",
   "name": "python",
   "nbconvert_exporter": "python",
   "pygments_lexer": "ipython3",
   "version": "3.5.2"
  }
 },
 "nbformat": 4,
 "nbformat_minor": 2
}
